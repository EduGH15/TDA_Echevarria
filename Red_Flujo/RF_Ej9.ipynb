{
  "nbformat": 4,
  "nbformat_minor": 0,
  "metadata": {
    "colab": {
      "provenance": []
    },
    "kernelspec": {
      "name": "python3",
      "display_name": "Python 3"
    },
    "language_info": {
      "name": "python"
    }
  },
  "cells": [
    {
      "cell_type": "markdown",
      "source": [
        "#Ejercicio 9\n",
        "\n",
        "Dado un grafo bipartito no dirigido, un match es un subconjunto de las aristas en el cual para todo vértice\n",
        "v\n",
        "v a lo sumo una arista del match incide en\n",
        "v\n",
        "v (en el match, tienen grado a lo sumo 1). Decimos que el vértice\n",
        "v\n",
        "v está matcheado si hay alguna arista que incida en él (sino, está unmatcheado). El matching máximo es aquel en el que tenemos la mayor cantidad de aristas (matcheamos la mayor cantidad posible). Dar una metodología para encontrar el matching máximo de un grafo, explicando en detalle cómo se modela el problema, cómo se lo resuelve y cómo se consigue el matching máximo. ¿Cuál es el orden temporal de la solución implementada?\n",
        "\n",
        "##Planteamiento\n",
        "\n",
        "La idea es resolverlo por Ford Fulkerson, pero para ello es necesario convertir el grafo en una red de flujo realizando los siguientes ajustes:\n",
        "\n",
        "*   Es necesario orientar el grafo, para lograrlo se convierten las aristas del grafo bipartito en un aristas dirigidas que partan del conjunto de vértices ubicados del lado izquierdo $L$ hasta el conjunto de vértices ubicados del lado derecho $R$. En caso de que el enunciado no nos dé la orientación, es necesario biparticionar el grafo en L y R\n",
        "\n",
        "*   Se crea una fuente y un sumidero. Se crea un nodo fuente llamado $s$ que esté conectado a cada elemento $\\in L$ y que tenga una capacidad adecuada. Luego se crea un nodo sumidero $t$ que permitirá conectar todos los elemntos de $R$ a $t$\n",
        "\n",
        "*   Se pondera el grafo, se le asigna a cada arista un peso = 1. con capacidades unitarias, un flujo máximo de valor 𝑘 corresponde exactamente a un matching de tamaño 𝑘. Como cada nodo sólo permitirá flujo total 1 a través suyo (por las conexiones de 1), no podrá emparejarse con más de un vecino simultáneamente — por eso el método produce un matching válido. Para obtener perfect matching se verifica si el flujo máximo es igual al número de vértices de uno de los lados (o al número total de vértices dividido por 2, según conveniencia).\n",
        "\n",
        "* Se procede a ejecutar Ford-Fulkerson sobre la red construida.\n",
        "\n"
      ],
      "metadata": {
        "id": "J0AFeqkgIB5x"
      }
    },
    {
      "cell_type": "code",
      "execution_count": null,
      "metadata": {
        "id": "Ws-azAOYHaxV"
      },
      "outputs": [],
      "source": [
        "from queue import Queue\n",
        "\n",
        "class Grafo:\n",
        "    def __init__(self, es_dirigido, lista_vertices):\n",
        "        self.es_dirigido = es_dirigido\n",
        "        self.vertices = {}\n",
        "        for vertice in lista_vertices:\n",
        "            self.vertices[vertice] = {}\n",
        "\n",
        "    def __contains__(self, v):\n",
        "        return v in self.vertices\n",
        "\n",
        "    def __len__(self):\n",
        "        return len(self.vertices)\n",
        "\n",
        "    def __iter__(self):\n",
        "        return iter(self.vertices)\n",
        "\n",
        "    def agregar_vertice(self, vertice):\n",
        "        if vertice in self:\n",
        "            return\n",
        "        self.vertices[vertice] = {}\n",
        "\n",
        "    def agregar_arista(self, vertice1, vertice2, peso=1):\n",
        "        if vertice1 not in self:\n",
        "            self.agregar_vertice(vertice1)\n",
        "        if vertice2 not in self:\n",
        "            self.agregar_vertice(vertice2)\n",
        "        self.vertices[vertice1][vertice2] = peso\n",
        "        if not self.es_dirigido:\n",
        "            self.vertices[vertice2][vertice1] = peso\n",
        "\n",
        "    def borrar_vertice(self, vertice):\n",
        "        if vertice not in self:\n",
        "            return\n",
        "        lista_vertices = list(self.vertices.keys())\n",
        "        for vecino in lista_vertices:\n",
        "            if vertice in self.vertices[vecino]:\n",
        "                self.vertices[vecino].pop(vertice, None)\n",
        "\n",
        "        del self.vertices[vertice]\n",
        "\n",
        "    def modificar_peso(self, vertice1, vertice2, peso):\n",
        "        if vertice1 not in self.vertices or vertice2 not in self.vertices:\n",
        "            return\n",
        "\n",
        "        if vertice2 not in self.vertices[vertice1]:\n",
        "            return\n",
        "\n",
        "        self.vertices[vertice1][vertice2] = peso\n",
        "        if not self.es_dirigido:\n",
        "            self.vertices[vertice2][vertice1] = peso\n",
        "\n",
        "    def estan_unidos(self, vertice_1, vertice2):\n",
        "        if vertice_1 not in self.vertices or vertice2 not in self.vertices:\n",
        "            return False\n",
        "        return vertice2 in self.vertices[vertice_1]\n",
        "\n",
        "    def obtener_vertices(self):\n",
        "        return list(self.vertices.keys())\n",
        "\n",
        "    def es_bipartito(self):\n",
        "      colores = {}\n",
        "      lista_vertices = list(self.vertices.keys())\n",
        "      for vertice in lista_vertices:\n",
        "          if vertice not in colores:\n",
        "              cola = Queue()\n",
        "              cola.put(vertice)\n",
        "              colores[vertice] = 0\n",
        "\n",
        "              while not cola.empty():\n",
        "                  actual = cola.get()\n",
        "                  for vecino in self.vertices[actual]:\n",
        "                      if vecino not in colores:\n",
        "                          colores[vecino] = 1 - colores[actual]\n",
        "                          cola.put(vecino)\n",
        "                      elif colores[vecino] == colores[actual]:\n",
        "                          return False\n",
        "      return True\n",
        "\n",
        "    def obtener_particion(self):\n",
        "        \"\"\"\n",
        "        Precondiciones: el grafo debe estar correctamente definido (self.vertices es un diccionario válido).\n",
        "        El grafo no debe contener vértices huérfanos (sin clave en self.vertices).\n",
        "        Postcondiciones: devuelve dos conjuntos disjuntos L y R tales que cada arista conecta un vértice de L con uno de R.\n",
        "        Si el grafo no es bipartito, devuelve (None, None).\n",
        "        \"\"\"\n",
        "        colores = {}\n",
        "        conjunto_L = set()\n",
        "        conjunto_R = set()\n",
        "        lista_vertices = list(self.vertices.keys())\n",
        "\n",
        "        for vertice in lista_vertices:\n",
        "            if vertice not in colores:\n",
        "                cola = Queue()\n",
        "                cola.put(vertice)\n",
        "                colores[vertice] = 0\n",
        "                conjunto_L.add(vertice)\n",
        "\n",
        "                while not cola.empty():\n",
        "                    actual = cola.get()\n",
        "                    for vecino in self.vertices[actual]:\n",
        "                        if vecino not in colores:\n",
        "                            colores[vecino] = 1 - colores[actual]\n",
        "                            cola.put(vecino)\n",
        "                            if colores[vecino] == 0:\n",
        "                                conjunto_L.add(vecino)\n",
        "                            else:\n",
        "                                conjunto_R.add(vecino)\n",
        "                        else:\n",
        "                            if colores[vecino] == colores[actual]:\n",
        "                                return None, None\n",
        "        return conjunto_L, conjunto_R\n",
        "\n",
        "    def mostrar_grafo(self):\n",
        "        print(self.vertices)"
      ]
    },
    {
      "cell_type": "markdown",
      "source": [
        "#Ejemplo de Grafo Bipartito\n",
        "\n",
        "![image.png](data:image/png;base64,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)"
      ],
      "metadata": {
        "id": "teXTcnNYxjq6"
      }
    },
    {
      "cell_type": "code",
      "source": [
        "vertices_2 = ['A', 'B', 'C', 'D', 'E', 'F']\n",
        "grafo_bi = Grafo(False, vertices_2)\n",
        "\n",
        "aristas = [\n",
        "    ('A', 'C'),\n",
        "    ('A', 'D'),\n",
        "    ('A', 'F'),\n",
        "    ('B', 'E'),\n",
        "    ('B', 'F'),\n",
        "]\n",
        "\n",
        "for v1,v2 in aristas:\n",
        "    grafo_bi.agregar_arista(v1,v2,0)\n",
        "\n",
        "grafo_bi.mostrar_grafo()\n",
        "conjunto_L, conjunto_R = grafo_bi.obtener_particion()\n",
        "print(f'El conjunto derecho es: {conjunto_R}')\n",
        "print(f'El conjunto izquierdo es: {conjunto_L}')"
      ],
      "metadata": {
        "colab": {
          "base_uri": "https://localhost:8080/"
        },
        "id": "oFHohQDzwvc0",
        "outputId": "d426d18c-94a5-44f6-a4ed-45dabf7ce8d8"
      },
      "execution_count": null,
      "outputs": [
        {
          "output_type": "stream",
          "name": "stdout",
          "text": [
            "{'A': {'C': 0, 'D': 0, 'F': 0}, 'B': {'E': 0, 'F': 0}, 'C': {'A': 0}, 'D': {'A': 0}, 'E': {'B': 0}, 'F': {'A': 0, 'B': 0}}\n",
            "El conjunto derecho es: {'E', 'D', 'F', 'C'}\n",
            "El conjunto izquierdo es: {'A', 'B'}\n"
          ]
        }
      ]
    },
    {
      "cell_type": "code",
      "source": [
        "def construir_red_flujo(grafo_bipartito):\n",
        "  \"\"\"\n",
        "  Precondiciones: grafo_bipartito es un grafo válido que implementa el método obtener_particion. El grafo debe ser\n",
        "  bipartito.\n",
        "\n",
        "  Postcondiciones: devuelve un grafo dirigido con vértices s (fuente) y t (sumidero). Todas las aristas desde s a L, de L a R, y de R a t\n",
        "  tienen capacidad 1. Si el grafo no es bipartito, devuelve None.\n",
        "  \"\"\"\n",
        "\n",
        "  L, R = grafo_bipartito.obtener_particion()\n",
        "  if L is None or R is None:\n",
        "    print(\"El grafo no es bipartito\")\n",
        "    return None\n",
        "\n",
        "  fuente = 's'\n",
        "  sumidero = 't'\n",
        "\n",
        "  lista_vertices = list(grafo_bipartito.vertices.keys())\n",
        "  red_flujo = Grafo(True, lista_vertices)\n",
        "  red_flujo.agregar_vertice(fuente)\n",
        "  red_flujo.agregar_vertice(sumidero)\n",
        "\n",
        "  for elemento in L:\n",
        "      for vertice in grafo_bipartito.vertices[elemento]:\n",
        "          if vertice in R:\n",
        "            red_flujo.agregar_arista(elemento, vertice, 1)\n",
        "\n",
        "  for elemento in L:\n",
        "      red_flujo.agregar_arista(fuente, elemento, 1)\n",
        "\n",
        "  for elemento in R:\n",
        "      red_flujo.agregar_arista(elemento, sumidero, 1)\n",
        "\n",
        "  return red_flujo\n"
      ],
      "metadata": {
        "id": "hWkhiefqyLap"
      },
      "execution_count": null,
      "outputs": []
    },
    {
      "cell_type": "code",
      "source": [
        "red_flujo = construir_red_flujo(grafo_bi)\n",
        "red_flujo.mostrar_grafo()"
      ],
      "metadata": {
        "colab": {
          "base_uri": "https://localhost:8080/"
        },
        "id": "1AWyreujzQA5",
        "outputId": "f385c891-c486-4319-a137-b8b149e5c811"
      },
      "execution_count": null,
      "outputs": [
        {
          "output_type": "stream",
          "name": "stdout",
          "text": [
            "{'A': {'C': 1, 'D': 1, 'F': 1}, 'B': {'E': 1, 'F': 1}, 'C': {'t': 1}, 'D': {'t': 1}, 'E': {'t': 1}, 'F': {'t': 1}, 's': {'A': 1, 'B': 1}, 't': {}}\n"
          ]
        }
      ]
    },
    {
      "cell_type": "code",
      "source": [
        "def copiar_grafo(grafo):\n",
        "    \"\"\"\n",
        "    Precondiciones: grafo es una instancia válida de Grafo con estructura consistente (diccionario).\n",
        "    Postcondiciones: devuelve una copia profunda del grafo original.\n",
        "    La copia mantiene las mismas aristas, pesos y orientación que contiene el grafo pasado por parámetro (es_dirigido).\n",
        "    \"\"\"\n",
        "    lista_vertices = list(grafo.vertices.keys())\n",
        "    grafo_copia = Grafo(grafo.es_dirigido, lista_vertices)\n",
        "    for vertice in grafo.vertices:\n",
        "        for vecino in grafo.vertices[vertice]:\n",
        "            peso = grafo.vertices[vertice][vecino]\n",
        "            grafo_copia.agregar_arista(vertice, vecino, peso)\n",
        "    return grafo_copia"
      ],
      "metadata": {
        "id": "6Mh8glgfCaEV"
      },
      "execution_count": null,
      "outputs": []
    },
    {
      "cell_type": "code",
      "source": [
        "red_copia = copiar_grafo(red_flujo)\n",
        "red_copia.mostrar_grafo()"
      ],
      "metadata": {
        "colab": {
          "base_uri": "https://localhost:8080/"
        },
        "id": "awMQusjBDD3y",
        "outputId": "03abe81a-57b1-4c3f-b209-0a523913ea10"
      },
      "execution_count": null,
      "outputs": [
        {
          "output_type": "stream",
          "name": "stdout",
          "text": [
            "{'A': {'C': 1, 'D': 1, 'F': 1}, 'B': {'E': 1, 'F': 1}, 'C': {'t': 1}, 'D': {'t': 1}, 'E': {'t': 1}, 'F': {'t': 1}, 's': {'A': 1, 'B': 1}, 't': {}}\n"
          ]
        }
      ]
    },
    {
      "cell_type": "code",
      "source": [
        "def buscar_camino(grafo, fuente, sumidero):\n",
        "  \"\"\"\n",
        "  Precondiciones: grafo es una instancia de Grafo. Fuente y sumidero existen en grafo.vertices.\n",
        "  Las capacidades de las aristas son números no negativos.\n",
        "\n",
        "  Postcondiciones: Devuelve un diccionario camino que indica el padre de cada vértice en el recorrido desde la fuente hasta el sumidero.\n",
        "  Si no existe camino con capacidad positiva, devuelve {} (vacío).\n",
        "  \"\"\"\n",
        "  if fuente not in grafo.vertices or sumidero not in grafo.vertices:\n",
        "      return {}\n",
        "\n",
        "  visitados = []\n",
        "  padres = {}\n",
        "  elementos_encolados = Queue()\n",
        "  elementos_encolados.put(fuente)\n",
        "\n",
        "  while not elementos_encolados.empty():\n",
        "      elemento_actual = elementos_encolados.get()\n",
        "      visitados.append(elemento_actual)\n",
        "\n",
        "      if elemento_actual == sumidero:\n",
        "          camino = {}\n",
        "          while elemento_actual != fuente:\n",
        "              padre = padres[elemento_actual]\n",
        "              camino[elemento_actual] = padre\n",
        "              elemento_actual = padre\n",
        "          return camino\n",
        "\n",
        "      for vecino in grafo.vertices[elemento_actual]:\n",
        "          capacidad = grafo.vertices[elemento_actual][vecino]\n",
        "          if vecino not in visitados and capacidad > 0:\n",
        "              padres[vecino] = elemento_actual\n",
        "              visitados.append(vecino)\n",
        "              elementos_encolados.put(vecino)\n",
        "  return {}"
      ],
      "metadata": {
        "id": "gD7KBev2Evhv"
      },
      "execution_count": null,
      "outputs": []
    },
    {
      "cell_type": "code",
      "source": [
        "camino = buscar_camino(red_flujo, 's', 't')\n",
        "print(f'Existe al menos un camino desde la fuente al sumidero y es: {camino}')"
      ],
      "metadata": {
        "colab": {
          "base_uri": "https://localhost:8080/"
        },
        "id": "NomZDRVCGVt6",
        "outputId": "a75f3ab7-64cf-4e3c-f01b-86152c538e07"
      },
      "execution_count": null,
      "outputs": [
        {
          "output_type": "stream",
          "name": "stdout",
          "text": [
            "Existe al menos un camino desde la fuente al sumidero y es: {'t': 'C', 'C': 'A', 'A': 's'}\n"
          ]
        }
      ]
    },
    {
      "cell_type": "code",
      "source": [
        "def actualizar_red_residual(red, camino, fuente, sumidero, flujo):\n",
        "    \"\"\"\n",
        "    Precondiciones: camino representa un camino válido desde fuente hasta sumidero en red.\n",
        "    flujo es un número positivo menor o igual a la capacidad mínima del camino.\n",
        "\n",
        "    Postcondiciones: La red residual se actualiza reduciendo la capacidad directa en cada arista del camino en flujo.\n",
        "    Se incrementa (o crea) la capacidad inversa correspondiente.\n",
        "    \"\"\"\n",
        "    vertice_actual = sumidero\n",
        "    while vertice_actual != fuente:\n",
        "        vertice_anterior = camino[vertice_actual]\n",
        "        red.vertices[vertice_anterior][vertice_actual] -= flujo\n",
        "        if vertice_actual not in red.vertices:\n",
        "            red.vertices[vertice_actual] = {}\n",
        "        if vertice_anterior not in red.vertices[vertice_actual]:\n",
        "            red.vertices[vertice_actual][vertice_anterior] = 0\n",
        "        red.vertices[vertice_actual][vertice_anterior] += flujo\n",
        "        vertice_actual = vertice_anterior"
      ],
      "metadata": {
        "id": "IKXGuZ9gZmJF"
      },
      "execution_count": null,
      "outputs": []
    },
    {
      "cell_type": "code",
      "source": [
        "def ford_fulkerson(grafo, fuente, sumidero):\n",
        "    \"\"\"\n",
        "    Precondiciones: grafo es un grafo dirigido con capacidades no negativas. fuente y sumidero existen en el grafo y son distintos.\n",
        "\n",
        "    Postcondiciones: Devuelve  (flujo_maximo, red_residual) donde el flujo_maximo es el valor máximo de flujo posible desde fuente hasta sumidero y\n",
        "    la red_residual refleja las capacidades finales tras aplicar el algoritmo.\n",
        "    Ninguna arista en la red residual tiene capacidad negativa.\n",
        "    \"\"\"\n",
        "    red_residual = copiar_grafo(grafo)\n",
        "    flujo_maximo = 0\n",
        "\n",
        "    while True:\n",
        "        camino = buscar_camino(red_residual, fuente, sumidero)\n",
        "        if not camino:\n",
        "            break\n",
        "        flujo = float('inf')\n",
        "        vertice_actual = sumidero\n",
        "\n",
        "        while vertice_actual != fuente:\n",
        "            vertice_anterior = camino[vertice_actual]\n",
        "            capacidad = red_residual.vertices[vertice_anterior][vertice_actual]\n",
        "            flujo = min(flujo, capacidad)\n",
        "            vertice_actual = vertice_anterior\n",
        "\n",
        "        actualizar_red_residual(red_residual, camino, fuente, sumidero, flujo)\n",
        "        flujo_maximo += flujo\n",
        "\n",
        "    return flujo_maximo, red_residual\n"
      ],
      "metadata": {
        "id": "6Rt6LaegcZWS"
      },
      "execution_count": null,
      "outputs": []
    },
    {
      "cell_type": "code",
      "source": [
        "flujo_maximo, red_residual = ford_fulkerson(red_flujo, 's', 't')\n",
        "print(f'La cantidad de perfect matching es {flujo_maximo}')\n",
        "print(f'La red original es:')\n",
        "red_flujo.mostrar_grafo()\n",
        "print(f'la red residual es:')\n",
        "red_residual.mostrar_grafo()"
      ],
      "metadata": {
        "colab": {
          "base_uri": "https://localhost:8080/"
        },
        "id": "4PvZX1Moc094",
        "outputId": "04022ce0-0d6b-4e45-daef-4a52cd316195"
      },
      "execution_count": null,
      "outputs": [
        {
          "output_type": "stream",
          "name": "stdout",
          "text": [
            "La cantidad de perfect matching es 2\n",
            "La red original es:\n",
            "{'A': {'C': 1, 'D': 1, 'F': 1}, 'B': {'E': 1, 'F': 1}, 'C': {'t': 1}, 'D': {'t': 1}, 'E': {'t': 1}, 'F': {'t': 1}, 's': {'A': 1, 'B': 1}, 't': {}}\n",
            "la red residual es:\n",
            "{'A': {'C': 0, 'D': 1, 'F': 1, 's': 1}, 'B': {'E': 0, 'F': 1, 's': 1}, 'C': {'t': 0, 'A': 1}, 'D': {'t': 1}, 'E': {'t': 0, 'B': 1}, 'F': {'t': 1}, 's': {'A': 0, 'B': 0}, 't': {'C': 1, 'E': 1}}\n"
          ]
        }
      ]
    },
    {
      "cell_type": "code",
      "source": [
        "def obtener_matching(red_inicial, red_residual, L, R):\n",
        "    matching = []\n",
        "    for u in L:\n",
        "        for v in red_inicial.vertices[u]:\n",
        "            if v in R:\n",
        "                if red_residual.vertices[u][v] == 0:\n",
        "                    matching.append((u, v))\n",
        "    return matching\n"
      ],
      "metadata": {
        "id": "NfgD5wBRDRuC"
      },
      "execution_count": null,
      "outputs": []
    },
    {
      "cell_type": "code",
      "source": [
        "matching = obtener_matching(red_flujo, red_residual, conjunto_L, conjunto_R)\n",
        "print(matching)"
      ],
      "metadata": {
        "colab": {
          "base_uri": "https://localhost:8080/"
        },
        "id": "nE8ZMN3uDX_Q",
        "outputId": "dadeb88f-8c91-4f58-e419-c790a6dd07d7"
      },
      "execution_count": null,
      "outputs": [
        {
          "output_type": "stream",
          "name": "stdout",
          "text": [
            "[('A', 'C'), ('B', 'E')]\n"
          ]
        }
      ]
    }
  ]
}