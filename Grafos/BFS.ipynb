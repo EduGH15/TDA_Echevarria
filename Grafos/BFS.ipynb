{
  "nbformat": 4,
  "nbformat_minor": 0,
  "metadata": {
    "colab": {
      "provenance": []
    },
    "kernelspec": {
      "name": "python3",
      "display_name": "Python 3"
    },
    "language_info": {
      "name": "python"
    }
  },
  "cells": [
    {
      "cell_type": "markdown",
      "source": [
        "#Recorrido a lo ancho (BFS)\n",
        "\n",
        "EL RECORRIDO A LO ANCHO CONSISTE EN IR RECORRIENDO EL GRAFO\n",
        "EMPEZANDO DESDE UN VÉRTICE CUALQUIERA, Y LUEGO SE VAN VISITANDO\n",
        "\n",
        "LOS VÉRTICES ADYACENTES MAS CERCANOS.\n",
        "\n",
        "LA FORMA MÁS SENCILLO DE PENSARLO ES CON UNA COLA:\n",
        "\n",
        "1. ENCOLAR UN VÉRTICE\n",
        "2. QUITAR UN VÉRTICE DE LA COLA, VISITARLO\n",
        "3. ENCOLAR LOS VÉRTICES ADYACENTES AL ACTUAL\n",
        "4. REPETIR DESDE (2) HASTA QUEDARSE SIN VÉRTICES"
      ],
      "metadata": {
        "id": "LrsaUX59ZBpM"
      }
    },
    {
      "cell_type": "code",
      "execution_count": null,
      "metadata": {
        "id": "naNL5SOkY_u2"
      },
      "outputs": [],
      "source": [
        "from queue import Queue\n",
        "\n",
        "def recorrer_bfs(grafo, vertice_origen):\n",
        "  \"\"\"\n",
        "    Precondición:\n",
        "        - El parámetro `grafo` debe ser un objeto que contenga un atributo `vertices`.\n",
        "        - `grafo.vertices` debe ser un diccionario o estructura indexable donde cada vértice tiene asociados sus vecinos.\n",
        "        - El vértice `vertice_origen` debe existir como clave en `grafo.vertices`.\n",
        "\n",
        "    Postcondición:\n",
        "        - Se imprimen los vértices en el orden en que fueron visitados por el recorrido BFS.\n",
        "        - Se construye internamente una lista con los vértices visitados (`elementos_visitados`).\n",
        "    \"\"\"\n",
        "    if vertice_origen not in grafo:\n",
        "        return\n",
        "    elementos_encolados = Queue()\n",
        "    elementos_visitados = []\n",
        "    elementos_encolados.put(vertice_origen)\n",
        "    #print(f\"Los elementos presentes en la cola son: {list(elementos_encolados.queue)}\")\n",
        "    while not elementos_encolados.empty():\n",
        "        visitado = elementos_encolados.get()\n",
        "        #print(f\"Se visita el elemento; {visitado}\")\n",
        "        elementos_visitados.append(visitado)\n",
        "        for vecino in grafo.vertices[visitado]:\n",
        "            if vecino not in elementos_visitados and vecino not in elementos_encolados.queue:\n",
        "                #print(f\"Se agrega el vecino {vecino} a la cola\")\n",
        "                elementos_encolados.put(vecino)\n",
        "        #print(f\"Los elementos presentes en la cola son: {list(elementos_encolados.queue)}\")\n",
        "    print(f\"Los elementos se visitaron en el siguiente orden:{elementos_visitados}\")"
      ]
    }
  ]
}