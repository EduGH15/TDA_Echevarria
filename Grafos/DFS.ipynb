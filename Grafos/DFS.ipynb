{
  "nbformat": 4,
  "nbformat_minor": 0,
  "metadata": {
    "colab": {
      "provenance": []
    },
    "kernelspec": {
      "name": "python3",
      "display_name": "Python 3"
    },
    "language_info": {
      "name": "python"
    }
  },
  "cells": [
    {
      "cell_type": "markdown",
      "source": [
        "# Recorrido en profundidad (DFS)\n",
        "\n",
        "EL RECORRIDO EN PROFUNDIDAD CONSISTE EN IR RECORRIENDO EL GRAFO\n",
        "EMPEZANDO DESDE UN VÉRTICE CUALQUIERA, Y A CADA PASO SE VISITA\n",
        "\n",
        "UN VÉRTICE ADYACENTE AL ÚLTIMO VISITADO.\n",
        "\n",
        "LA FORMA MÁS SENCILLO DE PENSARLO ES CON UNA PILA:\n",
        "\n",
        "1. APILAR UN VÉRTICE\n",
        "2. QUITAR UN VÉRTICE DE LA PILA, VISITARLO\n",
        "3. APILAR LOS VÉRTICES ADYACENTES AL ACTUAL\n",
        "4. REPETIR DESDE (2) HASTA QUEDARSE SIN VÉRTICES\n",
        "\n"
      ],
      "metadata": {
        "id": "kIOMzZnTZXQ7"
      }
    },
    {
      "cell_type": "code",
      "execution_count": null,
      "metadata": {
        "id": "N-yUctLbZWEm"
      },
      "outputs": [],
      "source": [
        "from collections import deque\n",
        "\n",
        "def recorrer_profundidad_dfs(grafo, vertice_origen):\n",
        " \"\"\"\n",
        "    Precondición:\n",
        "        - `grafo` debe ser un objeto que contenga un atributo `vertices` indexable.\n",
        "        - `grafo.vertices` debe permitir acceder a los vecinos de cada vértice.\n",
        "        - El vértice `vertice_origen` debe existir en `grafo.vertices`.\n",
        "\n",
        "    Postcondición:\n",
        "        - Se imprimen los vértices en el orden en que fueron visitados por el recorrido DFS.\n",
        "        - Se construye internamente una lista con los vértices visitados (`elementos_visitados`).\n",
        "    \"\"\"\n",
        "    if vertice_origen not in grafo:\n",
        "        return\n",
        "    elementos_apilados = deque()\n",
        "    elementos_visitados = []\n",
        "    elementos_apilados.append(vertice_origen)\n",
        "    #print(f\"Se apila el siguiente elemento {elementos_apilados}\")\n",
        "    while len(elementos_apilados) > 0:\n",
        "        visitado = elementos_apilados.pop()\n",
        "        elementos_visitados.append(visitado)\n",
        "        #print(f\"Se visita el elemento {visitado}\")\n",
        "        for vecino in grafo.vertices[visitado]:\n",
        "            if vecino not in elementos_visitados and vecino not in elementos_apilados:\n",
        "                #print(f\"Se apila el vecino {vecino}\")\n",
        "                elementos_apilados.append(vecino)\n",
        "    print(f\"Los elementos fueron visitados en el siguiente orden: {elementos_visitados}\")\n"
      ]
    }
  ]
}