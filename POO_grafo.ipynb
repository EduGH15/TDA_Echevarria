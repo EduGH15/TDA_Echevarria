{
 "cells": [
  {
   "cell_type": "code",
   "execution_count": 1,
   "id": "dee5ba20-0b70-4b46-9aa3-f6d09528bf9b",
   "metadata": {},
   "outputs": [],
   "source": [
    "class Grafo: \n",
    "    def __init__(self, es_dirigido, lista_vertices):\n",
    "        self.es_dirigido = es_dirigido\n",
    "        self.vertices = {}\n",
    "        for vertice in lista_vertices:\n",
    "            self.vertices[vertice] = []\n",
    "\n",
    "    def __contains__(self, v):\n",
    "        return v in self.vertices\n",
    "\n",
    "    def __len__(self):\n",
    "        return len(self.vertices)\n",
    "\n",
    "    def __iter__(self):\n",
    "        return iter(self.vertices)\n",
    "  \n",
    "    def agregar_vertice(self, vertice):\n",
    "        if vertice in self:\n",
    "            return \n",
    "        self.vertices[vertice] = []\n",
    "\n",
    "    def agregar_arista(self, vertice1, vertice2):\n",
    "        if vertice1 not in self:\n",
    "            self.agregar_vertice(vertice1)\n",
    "        if vertice2 not in self:\n",
    "            self.agregar_vertice(vertice2)\n",
    "        self.vertices[vertice1].append(vertice2)\n",
    "        if not self.es_dirigido:\n",
    "            self.vertices[vertice2].append(vertice1)\n",
    "\n",
    "    def borrar_vertice(self, vertice):\n",
    "        if vertice not in self:\n",
    "            return\n",
    "        for vecino in self.vertices[vertice]:\n",
    "            self.vertices[vecino].remove(vertice)\n",
    "        del self.vertices[vertice]\n",
    "\n",
    "    def estan_unidos(self, vertice_1, vertice2):\n",
    "        if vertice_1 not in self or vertice2 not in self:\n",
    "            return False\n",
    "        return vertice2 in self.vertices[vertice_1]\n",
    "\n",
    "    def obtener_vertices(self):\n",
    "        return list(self.vertices.keys())\n",
    "     \n",
    "    def mostrar_grafo(self):\n",
    "        print(self.vertices)\n"
   ]
  },
  {
   "cell_type": "code",
   "execution_count": 2,
   "id": "4cdf0d01-0247-464a-ae0e-eb0b8840a3ce",
   "metadata": {},
   "outputs": [
    {
     "name": "stdout",
     "output_type": "stream",
     "text": [
      "{1: [2, 5], 2: [1, 3, 7], 3: [2, 4, 7, 8, 9], 4: [3, 5, 9], 5: [1, 4, 6, 10], 6: [5, 10, 13], 7: [2, 3, 8, 11], 8: [3, 7, 9, 12], 9: [3, 4, 8, 10, 12, 13], 10: [5, 6, 9, 13], 11: [7, 12], 12: [8, 9, 11, 13], 13: [6, 9, 10, 12]}\n"
     ]
    }
   ],
   "source": [
    "vertices = [1,2,3,4,5,6,7,8,9,10,11,12,13]\n",
    "grafo = Grafo(False, vertices)\n",
    "\n",
    "aristas = [\n",
    "    (1,2),(1,5),\n",
    "    (2,3),(2,7),\n",
    "    (3,4),(3,7),(3,8),(3,9),\n",
    "    (4,5),(4,9),\n",
    "    (5,6),(5,10),\n",
    "    (6,10),(6,13),\n",
    "    (7,8),(7,11),\n",
    "    (8,9),(8,12),\n",
    "    (9,10),(9,12),(9,13),\n",
    "    (10,13),\n",
    "    (11,12),\n",
    "    (12,13)\n",
    "]\n",
    "\n",
    "for v1,v2 in aristas:\n",
    "    grafo.agregar_arista(v1,v2)\n",
    "grafo.mostrar_grafo()\n",
    "\n"
   ]
  },
  {
   "cell_type": "code",
   "execution_count": null,
   "id": "ce286b83-d6cf-4bcc-89d1-925496a02c34",
   "metadata": {},
   "outputs": [],
   "source": []
  }
 ],
 "metadata": {
  "kernelspec": {
   "display_name": "Python 3 (ipykernel)",
   "language": "python",
   "name": "python3"
  },
  "language_info": {
   "codemirror_mode": {
    "name": "ipython",
    "version": 3
   },
   "file_extension": ".py",
   "mimetype": "text/x-python",
   "name": "python",
   "nbconvert_exporter": "python",
   "pygments_lexer": "ipython3",
   "version": "3.10.11"
  }
 },
 "nbformat": 4,
 "nbformat_minor": 5
}
